{
 "cells": [
  {
   "cell_type": "markdown",
   "metadata": {},
   "source": [
    "# Tomato Disease Classifier"
   ]
  },
  {
   "cell_type": "markdown",
   "metadata": {},
   "source": [
    "### Imports"
   ]
  },
  {
   "cell_type": "code",
   "execution_count": 1,
   "metadata": {
    "execution": {
     "iopub.execute_input": "2022-06-22T18:39:59.996874Z",
     "iopub.status.busy": "2022-06-22T18:39:59.996266Z",
     "iopub.status.idle": "2022-06-22T18:40:03.415736Z",
     "shell.execute_reply": "2022-06-22T18:40:03.414780Z",
     "shell.execute_reply.started": "2022-06-22T18:39:59.996760Z"
    }
   },
   "outputs": [],
   "source": [
    "import os\n",
    "import cv2\n",
    "import time\n",
    "import numpy as np\n",
    "import pandas as pd\n",
    "import torch\n",
    "from torch.utils.data import Dataset\n",
    "from torch.utils.data import DataLoader\n",
    "import torch.nn as nn\n",
    "import torch.optim as optim\n",
    "import torchvision\n",
    "from tqdm.notebook import tqdm\n",
    "import matplotlib.pyplot as plt\n",
    "import albumentations as A\n",
    "from torchvision import models, transforms\n",
    "from albumentations.pytorch import ToTensorV2\n",
    "import warnings\n",
    "warnings.filterwarnings('ignore')"
   ]
  },
  {
   "cell_type": "markdown",
   "metadata": {},
   "source": [
    "## Creating Dataframe with Image File Paths"
   ]
  },
  {
   "cell_type": "code",
   "execution_count": 2,
   "metadata": {
    "execution": {
     "iopub.execute_input": "2022-06-22T18:40:04.862446Z",
     "iopub.status.busy": "2022-06-22T18:40:04.861893Z",
     "iopub.status.idle": "2022-06-22T18:40:08.525653Z",
     "shell.execute_reply": "2022-06-22T18:40:08.524684Z",
     "shell.execute_reply.started": "2022-06-22T18:40:04.862407Z"
    }
   },
   "outputs": [
    {
     "name": "stdout",
     "output_type": "stream",
     "text": [
      "54783\n"
     ]
    },
    {
     "data": {
      "text/html": [
       "<div>\n",
       "<style scoped>\n",
       "    .dataframe tbody tr th:only-of-type {\n",
       "        vertical-align: middle;\n",
       "    }\n",
       "\n",
       "    .dataframe tbody tr th {\n",
       "        vertical-align: top;\n",
       "    }\n",
       "\n",
       "    .dataframe thead th {\n",
       "        text-align: right;\n",
       "    }\n",
       "</style>\n",
       "<table border=\"1\" class=\"dataframe\">\n",
       "  <thead>\n",
       "    <tr style=\"text-align: right;\">\n",
       "      <th></th>\n",
       "      <th>image_file</th>\n",
       "      <th>label</th>\n",
       "      <th>dataset</th>\n",
       "      <th>image_path</th>\n",
       "    </tr>\n",
       "  </thead>\n",
       "  <tbody>\n",
       "    <tr>\n",
       "      <th>0</th>\n",
       "      <td>081d1e25-3f06-46a1-95ef-d10a62faa80f___GHLB2 L...</td>\n",
       "      <td>Late_blight</td>\n",
       "      <td>segmented</td>\n",
       "      <td>../input/tomatoes/complete dataset/segmented/L...</td>\n",
       "    </tr>\n",
       "    <tr>\n",
       "      <th>1</th>\n",
       "      <td>e6703c22-86f7-4bdf-9733-072180761976___RS_Late...</td>\n",
       "      <td>Late_blight</td>\n",
       "      <td>segmented</td>\n",
       "      <td>../input/tomatoes/complete dataset/segmented/L...</td>\n",
       "    </tr>\n",
       "    <tr>\n",
       "      <th>2</th>\n",
       "      <td>9f946f43-424a-41be-9f91-b14fa3f2b37a___GHLB2 L...</td>\n",
       "      <td>Late_blight</td>\n",
       "      <td>segmented</td>\n",
       "      <td>../input/tomatoes/complete dataset/segmented/L...</td>\n",
       "    </tr>\n",
       "    <tr>\n",
       "      <th>3</th>\n",
       "      <td>dfc45d56-7ecb-46a5-b9da-9297df393f7b___RS_Late...</td>\n",
       "      <td>Late_blight</td>\n",
       "      <td>segmented</td>\n",
       "      <td>../input/tomatoes/complete dataset/segmented/L...</td>\n",
       "    </tr>\n",
       "    <tr>\n",
       "      <th>4</th>\n",
       "      <td>84b7d3ab-56ae-4eef-a852-7b32f3ef0160___GHLB2 L...</td>\n",
       "      <td>Late_blight</td>\n",
       "      <td>segmented</td>\n",
       "      <td>../input/tomatoes/complete dataset/segmented/L...</td>\n",
       "    </tr>\n",
       "  </tbody>\n",
       "</table>\n",
       "</div>"
      ],
      "text/plain": [
       "                                          image_file        label    dataset  \\\n",
       "0  081d1e25-3f06-46a1-95ef-d10a62faa80f___GHLB2 L...  Late_blight  segmented   \n",
       "1  e6703c22-86f7-4bdf-9733-072180761976___RS_Late...  Late_blight  segmented   \n",
       "2  9f946f43-424a-41be-9f91-b14fa3f2b37a___GHLB2 L...  Late_blight  segmented   \n",
       "3  dfc45d56-7ecb-46a5-b9da-9297df393f7b___RS_Late...  Late_blight  segmented   \n",
       "4  84b7d3ab-56ae-4eef-a852-7b32f3ef0160___GHLB2 L...  Late_blight  segmented   \n",
       "\n",
       "                                          image_path  \n",
       "0  ../input/tomatoes/complete dataset/segmented/L...  \n",
       "1  ../input/tomatoes/complete dataset/segmented/L...  \n",
       "2  ../input/tomatoes/complete dataset/segmented/L...  \n",
       "3  ../input/tomatoes/complete dataset/segmented/L...  \n",
       "4  ../input/tomatoes/complete dataset/segmented/L...  "
      ]
     },
     "execution_count": 2,
     "metadata": {},
     "output_type": "execute_result"
    }
   ],
   "source": [
    "data_path = '../input/tomatoes/complete dataset'\n",
    "\n",
    "rows = []\n",
    "for dataset in os.listdir(data_path):\n",
    "    if dataset == '.DS_Store':\n",
    "        continue\n",
    "    for label in os.listdir(data_path + f'/{dataset}'):\n",
    "        if label == '.DS_Store':\n",
    "            continue\n",
    "        for image in os.listdir(data_path + f'/{dataset}' + f'/{label}'):\n",
    "            row = dict()\n",
    "            row['image_file'] = image\n",
    "            row['label'] = label\n",
    "            row['dataset'] = dataset\n",
    "        \n",
    "            row['image_path'] = data_path + f'/{dataset}' + f'/{label}'\n",
    "            rows.append(row)\n",
    "        \n",
    "df = pd.DataFrame(rows)\n",
    "print(len(df))\n",
    "df.head()"
   ]
  },
  {
   "cell_type": "markdown",
   "metadata": {},
   "source": [
    "## Train/Validation/Test Split"
   ]
  },
  {
   "cell_type": "code",
   "execution_count": 3,
   "metadata": {
    "execution": {
     "iopub.execute_input": "2022-06-22T18:40:11.568464Z",
     "iopub.status.busy": "2022-06-22T18:40:11.567800Z",
     "iopub.status.idle": "2022-06-22T18:40:11.600118Z",
     "shell.execute_reply": "2022-06-22T18:40:11.599083Z",
     "shell.execute_reply.started": "2022-06-22T18:40:11.568430Z"
    }
   },
   "outputs": [
    {
     "data": {
      "text/plain": [
       "(32870, 10956, 10957)"
      ]
     },
     "execution_count": 3,
     "metadata": {},
     "output_type": "execute_result"
    }
   ],
   "source": [
    "train = df.sample(frac=.6)\n",
    "val = df[~df.index.isin(train.index)]\n",
    "valid = val.sample(frac=.5)\n",
    "test = val[~val.index.isin(valid.index)]\n",
    "train.reset_index(drop=True)\n",
    "valid.reset_index(drop=True)\n",
    "test.reset_index(drop=True)\n",
    "len(train), len(valid), len(test)"
   ]
  },
  {
   "cell_type": "markdown",
   "metadata": {},
   "source": [
    "## Creating Dataset Class"
   ]
  },
  {
   "cell_type": "code",
   "execution_count": 4,
   "metadata": {
    "execution": {
     "iopub.execute_input": "2022-06-22T18:40:13.133601Z",
     "iopub.status.busy": "2022-06-22T18:40:13.133162Z",
     "iopub.status.idle": "2022-06-22T18:40:13.148987Z",
     "shell.execute_reply": "2022-06-22T18:40:13.147364Z",
     "shell.execute_reply.started": "2022-06-22T18:40:13.133568Z"
    }
   },
   "outputs": [],
   "source": [
    "class TomatoDataset(Dataset):\n",
    "    def __init__(self, df, augment=False):\n",
    "        self.df = df\n",
    "        self.augment = augment\n",
    "        \n",
    "        # target label dictionary\n",
    "        self.label_dict = {'Target_Spot':0, 'Late_blight':1, 'Tomato_mosaic_virus':2,\n",
    "                           'Leaf_Mold':3, 'Bacterial_spot':4, 'Early_blight':5,\n",
    "                           'Healthy':6, 'Tomato_Yellow_Leaf_Curl_Virus':7, \n",
    "                           'Spider_mites':8, 'Septoria_leaf_spot':9}\n",
    "        \n",
    "        # define the transformation\n",
    "        if augment == True:\n",
    "            self.transforms = A.Compose([\n",
    "                # spatial transforms\n",
    "                A.HorizontalFlip(p=.5),\n",
    "                A.VerticalFlip(p=.5),\n",
    "                A.Rotate(limit = 10, \n",
    "                         border_mode = cv2.BORDER_CONSTANT, \n",
    "                         value = 0.0, p = .75),\n",
    "                \n",
    "                # pixel-level transformation\n",
    "                A.RandomBrightnessContrast(p=0.3),\n",
    "                A.Blur(p=0.3),\n",
    "                A.GaussNoise(p=0.4),\n",
    "                \n",
    "                # this adjusts from [0,255] to [0,1]\n",
    "                A.Normalize(mean=(0.485, 0.456, 0.406), std=(0.229, 0.224, 0.225)),\n",
    "                \n",
    "                # convert to a tensor\n",
    "                ToTensorV2()\n",
    "            ])\n",
    "        else:\n",
    "            self.transforms = A.Compose([\n",
    "                # training/valid images have same size\n",
    "                A.CenterCrop(width=224, height=224),\n",
    "                \n",
    "                # normalize\n",
    "                A.Normalize(mean=(0.485, 0.456, 0.406), std=(0.229, 0.224, 0.225)),\n",
    "                \n",
    "                # convert to a tensor and move color channels\n",
    "                ToTensorV2()\n",
    "            ])\n",
    "    \n",
    "    def __len__(self):\n",
    "        return len(self.df)\n",
    "    \n",
    "    def __getitem__(self, idx):\n",
    "        row = self.df.iloc[idx]\n",
    "        \n",
    "        # get ingredients for retrieving image\n",
    "        image_path = row['image_path']\n",
    "        fname = row['image_file']\n",
    "        path = image_path+'/'+fname\n",
    "        \n",
    "        # read the img\n",
    "        img = cv2.imread(path)\n",
    "        \n",
    "        # resize image\n",
    "        size = (224, 224)\n",
    "        img = cv2.resize(img, size)\n",
    "        \n",
    "        # convert to RGB\n",
    "        img = cv2.cvtColor(img, cv2.COLOR_BGR2RGB)\n",
    "        \n",
    "        # move color channels to correct spot\n",
    "        img = np.transpose(img, (2, 1, 0))\n",
    "        \n",
    "        # convert to [0,1] scale\n",
    "        img = torch.tensor(img / 255.).float()\n",
    "        \n",
    "        label = torch.tensor(self.label_dict[row['label']])\n",
    "        \n",
    "        return img, label"
   ]
  },
  {
   "cell_type": "markdown",
   "metadata": {},
   "source": [
    "## Creating Datasets and Dataloaders"
   ]
  },
  {
   "cell_type": "code",
   "execution_count": 5,
   "metadata": {
    "execution": {
     "iopub.execute_input": "2022-06-22T18:40:14.460361Z",
     "iopub.status.busy": "2022-06-22T18:40:14.459995Z",
     "iopub.status.idle": "2022-06-22T18:40:14.466187Z",
     "shell.execute_reply": "2022-06-22T18:40:14.465284Z",
     "shell.execute_reply.started": "2022-06-22T18:40:14.460331Z"
    }
   },
   "outputs": [],
   "source": [
    "ds_train = TomatoDataset(train, augment=True)\n",
    "dl_train = DataLoader(ds_train, batch_size = 10, shuffle=True)\n",
    "\n",
    "ds_valid = TomatoDataset(valid)\n",
    "dl_valid = DataLoader(ds_valid, batch_size = 10, shuffle=False)"
   ]
  },
  {
   "cell_type": "markdown",
   "metadata": {},
   "source": [
    "## Experimenting with 3 Models:\n",
    "\n",
    "- **Fine-tuned VGG16**\n",
    "- **GoogleNet**\n",
    "- **Partially Frozen ResNet18**"
   ]
  },
  {
   "cell_type": "markdown",
   "metadata": {},
   "source": [
    "#### Fine-Tuned VGG16"
   ]
  },
  {
   "cell_type": "code",
   "execution_count": 6,
   "metadata": {
    "execution": {
     "iopub.execute_input": "2022-06-22T18:40:17.000740Z",
     "iopub.status.busy": "2022-06-22T18:40:17.000366Z",
     "iopub.status.idle": "2022-06-22T18:40:55.834107Z",
     "shell.execute_reply": "2022-06-22T18:40:55.832969Z",
     "shell.execute_reply.started": "2022-06-22T18:40:17.000712Z"
    }
   },
   "outputs": [
    {
     "name": "stderr",
     "output_type": "stream",
     "text": [
      "Downloading: \"https://download.pytorch.org/models/vgg16-397923af.pth\" to /root/.cache/torch/hub/checkpoints/vgg16-397923af.pth\n"
     ]
    },
    {
     "data": {
      "application/vnd.jupyter.widget-view+json": {
       "model_id": "23a801882043419da4275fcaa6a79a23",
       "version_major": 2,
       "version_minor": 0
      },
      "text/plain": [
       "  0%|          | 0.00/528M [00:00<?, ?B/s]"
      ]
     },
     "metadata": {},
     "output_type": "display_data"
    }
   ],
   "source": [
    "tuned_vgg = models.vgg16(pretrained=True)"
   ]
  },
  {
   "cell_type": "code",
   "execution_count": 7,
   "metadata": {
    "execution": {
     "iopub.execute_input": "2022-06-22T18:41:02.872046Z",
     "iopub.status.busy": "2022-06-22T18:41:02.871596Z",
     "iopub.status.idle": "2022-06-22T18:41:02.880487Z",
     "shell.execute_reply": "2022-06-22T18:41:02.879540Z",
     "shell.execute_reply.started": "2022-06-22T18:41:02.872012Z"
    }
   },
   "outputs": [
    {
     "name": "stdout",
     "output_type": "stream",
     "text": [
      "Linear(in_features=4096, out_features=1000, bias=True)\n"
     ]
    }
   ],
   "source": [
    "print(tuned_vgg.classifier[6])"
   ]
  },
  {
   "cell_type": "code",
   "execution_count": 8,
   "metadata": {
    "execution": {
     "iopub.execute_input": "2022-06-22T18:41:04.358841Z",
     "iopub.status.busy": "2022-06-22T18:41:04.358498Z",
     "iopub.status.idle": "2022-06-22T18:41:04.365624Z",
     "shell.execute_reply": "2022-06-22T18:41:04.364581Z",
     "shell.execute_reply.started": "2022-06-22T18:41:04.358814Z"
    }
   },
   "outputs": [],
   "source": [
    "tuned_vgg.classifier[6] = nn.Linear(in_features=4096, out_features=10) # 10 total classes"
   ]
  },
  {
   "cell_type": "code",
   "execution_count": 9,
   "metadata": {
    "execution": {
     "iopub.execute_input": "2022-06-22T18:41:14.326027Z",
     "iopub.status.busy": "2022-06-22T18:41:14.325674Z",
     "iopub.status.idle": "2022-06-22T18:41:14.330843Z",
     "shell.execute_reply": "2022-06-22T18:41:14.329645Z",
     "shell.execute_reply.started": "2022-06-22T18:41:14.325998Z"
    }
   },
   "outputs": [],
   "source": [
    "lossFun = nn.CrossEntropyLoss()"
   ]
  },
  {
   "cell_type": "code",
   "execution_count": 10,
   "metadata": {
    "execution": {
     "iopub.execute_input": "2022-06-22T18:41:15.367681Z",
     "iopub.status.busy": "2022-06-22T18:41:15.367017Z",
     "iopub.status.idle": "2022-06-22T18:41:15.376542Z",
     "shell.execute_reply": "2022-06-22T18:41:15.375358Z",
     "shell.execute_reply.started": "2022-06-22T18:41:15.367644Z"
    }
   },
   "outputs": [],
   "source": [
    "params_to_update_1 = []\n",
    "params_to_update_2 = []\n",
    "params_to_update_3 = []\n",
    "\n",
    "update_param_names_1 = [\"features\"]\n",
    "update_param_names_2 = [\"classifier.0.weight\",\n",
    "                        \"classifier.0.bias\", \"classifier.3.weight\", \"classifier.3.bias\"]\n",
    "update_param_names_3 = [\"classifier.6.weight\", \"classifier.6.bias\"]\n",
    "\n",
    "for name, param in tuned_vgg.named_parameters():\n",
    "    if update_param_names_1[0] in name:\n",
    "        param.requires_grad = True\n",
    "        params_to_update_1.append(param)\n",
    "\n",
    "    elif name in update_param_names_2:\n",
    "        param.requires_grad = True\n",
    "        params_to_update_2.append(param)\n",
    "\n",
    "    elif name in update_param_names_3:\n",
    "        param.requires_grad = True\n",
    "        params_to_update_3.append(param)\n",
    "\n",
    "    else:\n",
    "        param.requires_grad = False\n",
    "\n",
    "vgg_optimizer = optim.SGD([\n",
    "    {'params': params_to_update_1, 'lr': 1e-4},\n",
    "    {'params': params_to_update_2, 'lr': 5e-4},\n",
    "    {'params': params_to_update_3, 'lr': 1e-3}\n",
    "], momentum=0.9)"
   ]
  },
  {
   "cell_type": "markdown",
   "metadata": {},
   "source": [
    "Functions for training and evaluating models:"
   ]
  },
  {
   "cell_type": "code",
   "execution_count": 11,
   "metadata": {
    "execution": {
     "iopub.execute_input": "2022-06-22T18:41:19.878680Z",
     "iopub.status.busy": "2022-06-22T18:41:19.878341Z",
     "iopub.status.idle": "2022-06-22T18:41:19.890527Z",
     "shell.execute_reply": "2022-06-22T18:41:19.889541Z",
     "shell.execute_reply.started": "2022-06-22T18:41:19.878652Z"
    }
   },
   "outputs": [],
   "source": [
    "def one_pass(model, dataloader, optimizer, lossFun, backwards=True, print_loss=False):\n",
    "    \n",
    "    if backwards == True:\n",
    "        model.train()\n",
    "    else:\n",
    "        model.eval()\n",
    "    \n",
    "    total_loss = 0.0\n",
    "    for x, y in tqdm(dataloader):\n",
    "        if torch.cuda.is_available():\n",
    "            model.cuda()\n",
    "            x = x.cuda()\n",
    "            y = y.cuda()\n",
    "        \n",
    "        y_pred = model(x)\n",
    "        loss = lossFun(y_pred, y)\n",
    "        total_loss += loss.item()\n",
    "        \n",
    "        if backwards == True:\n",
    "            optimizer.zero_grad()\n",
    "            loss.backward()\n",
    "            optimizer.step()\n",
    "    avg_loss = total_loss / len(dataloader)\n",
    "    \n",
    "    if print_loss == True:\n",
    "        print(avg_loss)\n",
    "    \n",
    "    return avg_loss\n",
    "\n",
    "def one_pass_acc(model, dataloader, num_points):\n",
    "    model.eval()\n",
    "    total_incorrect = 0\n",
    "    \n",
    "    softmax = nn.LogSoftmax(dim=1)\n",
    "    \n",
    "    for x, y in tqdm(dataloader):\n",
    "        if torch.cuda.is_available():\n",
    "            model.cuda()\n",
    "            x = x.cuda()\n",
    "            y = y.cuda()\n",
    "        y_pred = softmax(model(x))\n",
    "        y_pred = torch.argmax(y_pred, dim=1)\n",
    "        \n",
    "        total_incorrect += torch.count_nonzero(y - y_pred).item()\n",
    "        \n",
    "    percent_wrong = total_incorrect / num_points\n",
    "    return 1 - percent_wrong"
   ]
  },
  {
   "cell_type": "markdown",
   "metadata": {},
   "source": [
    "Training VGG model for 5 epochs."
   ]
  },
  {
   "cell_type": "code",
   "execution_count": 12,
   "metadata": {
    "execution": {
     "iopub.execute_input": "2022-06-22T18:41:29.526062Z",
     "iopub.status.busy": "2022-06-22T18:41:29.525722Z",
     "iopub.status.idle": "2022-06-22T19:43:02.718279Z",
     "shell.execute_reply": "2022-06-22T19:43:02.717333Z",
     "shell.execute_reply.started": "2022-06-22T18:41:29.526034Z"
    }
   },
   "outputs": [
    {
     "data": {
      "application/vnd.jupyter.widget-view+json": {
       "model_id": "4d3e1d1ea15149fa87cbc10d876bdd5d",
       "version_major": 2,
       "version_minor": 0
      },
      "text/plain": [
       "  0%|          | 0/5 [00:00<?, ?it/s]"
      ]
     },
     "metadata": {},
     "output_type": "display_data"
    },
    {
     "name": "stdout",
     "output_type": "stream",
     "text": [
      "Epoch:  1\n"
     ]
    },
    {
     "data": {
      "application/vnd.jupyter.widget-view+json": {
       "model_id": "52d8db2e686e4714b76d4afa391bbdce",
       "version_major": 2,
       "version_minor": 0
      },
      "text/plain": [
       "  0%|          | 0/3287 [00:00<?, ?it/s]"
      ]
     },
     "metadata": {},
     "output_type": "display_data"
    },
    {
     "name": "stdout",
     "output_type": "stream",
     "text": [
      "Train loss:  0.4449574735466594\n"
     ]
    },
    {
     "data": {
      "application/vnd.jupyter.widget-view+json": {
       "model_id": "b98168ee02fa49d680d40f952e93094f",
       "version_major": 2,
       "version_minor": 0
      },
      "text/plain": [
       "  0%|          | 0/1096 [00:00<?, ?it/s]"
      ]
     },
     "metadata": {},
     "output_type": "display_data"
    },
    {
     "name": "stdout",
     "output_type": "stream",
     "text": [
      "Valid loss:  0.16701971673972593\n"
     ]
    },
    {
     "data": {
      "application/vnd.jupyter.widget-view+json": {
       "model_id": "c3d64f3a7ec9428f812f41e5a6c2f5d1",
       "version_major": 2,
       "version_minor": 0
      },
      "text/plain": [
       "  0%|          | 0/3287 [00:00<?, ?it/s]"
      ]
     },
     "metadata": {},
     "output_type": "display_data"
    },
    {
     "data": {
      "application/vnd.jupyter.widget-view+json": {
       "model_id": "a622fd0275614d289c9656dc588abc13",
       "version_major": 2,
       "version_minor": 0
      },
      "text/plain": [
       "  0%|          | 0/1096 [00:00<?, ?it/s]"
      ]
     },
     "metadata": {},
     "output_type": "display_data"
    },
    {
     "name": "stdout",
     "output_type": "stream",
     "text": [
      "Train accuracy:  0.956221478551871\n",
      "Valid accuracy:  0.9426798101496897\n",
      "----------------------------------\n",
      "Epoch:  2\n"
     ]
    },
    {
     "data": {
      "application/vnd.jupyter.widget-view+json": {
       "model_id": "5e18b50414c543e78787aba479b243ae",
       "version_major": 2,
       "version_minor": 0
      },
      "text/plain": [
       "  0%|          | 0/3287 [00:00<?, ?it/s]"
      ]
     },
     "metadata": {},
     "output_type": "display_data"
    },
    {
     "name": "stdout",
     "output_type": "stream",
     "text": [
      "Train loss:  0.15366923745206812\n"
     ]
    },
    {
     "data": {
      "application/vnd.jupyter.widget-view+json": {
       "model_id": "e0da0a6c05934854879085e05867bfbe",
       "version_major": 2,
       "version_minor": 0
      },
      "text/plain": [
       "  0%|          | 0/1096 [00:00<?, ?it/s]"
      ]
     },
     "metadata": {},
     "output_type": "display_data"
    },
    {
     "name": "stdout",
     "output_type": "stream",
     "text": [
      "Valid loss:  0.1281074380859855\n"
     ]
    },
    {
     "data": {
      "application/vnd.jupyter.widget-view+json": {
       "model_id": "6ed43f27185e4e6fb6d4a9e252a668b6",
       "version_major": 2,
       "version_minor": 0
      },
      "text/plain": [
       "  0%|          | 0/3287 [00:00<?, ?it/s]"
      ]
     },
     "metadata": {},
     "output_type": "display_data"
    },
    {
     "data": {
      "application/vnd.jupyter.widget-view+json": {
       "model_id": "1819eeb376bf4f6a963bbbda941cd0a1",
       "version_major": 2,
       "version_minor": 0
      },
      "text/plain": [
       "  0%|          | 0/1096 [00:00<?, ?it/s]"
      ]
     },
     "metadata": {},
     "output_type": "display_data"
    },
    {
     "name": "stdout",
     "output_type": "stream",
     "text": [
      "Train accuracy:  0.975813811986614\n",
      "Valid accuracy:  0.9562796641109894\n",
      "----------------------------------\n",
      "Epoch:  3\n"
     ]
    },
    {
     "data": {
      "application/vnd.jupyter.widget-view+json": {
       "model_id": "2d1f7a9008f646f5beac00cefd45515c",
       "version_major": 2,
       "version_minor": 0
      },
      "text/plain": [
       "  0%|          | 0/3287 [00:00<?, ?it/s]"
      ]
     },
     "metadata": {},
     "output_type": "display_data"
    },
    {
     "name": "stdout",
     "output_type": "stream",
     "text": [
      "Train loss:  0.08301522248999517\n"
     ]
    },
    {
     "data": {
      "application/vnd.jupyter.widget-view+json": {
       "model_id": "1083f0c395c64edba8c0a9bb73d2a2d1",
       "version_major": 2,
       "version_minor": 0
      },
      "text/plain": [
       "  0%|          | 0/1096 [00:00<?, ?it/s]"
      ]
     },
     "metadata": {},
     "output_type": "display_data"
    },
    {
     "name": "stdout",
     "output_type": "stream",
     "text": [
      "Valid loss:  0.09173219344857343\n"
     ]
    },
    {
     "data": {
      "application/vnd.jupyter.widget-view+json": {
       "model_id": "8376a03b9b8e473ea1eb1c8762afd44b",
       "version_major": 2,
       "version_minor": 0
      },
      "text/plain": [
       "  0%|          | 0/3287 [00:00<?, ?it/s]"
      ]
     },
     "metadata": {},
     "output_type": "display_data"
    },
    {
     "data": {
      "application/vnd.jupyter.widget-view+json": {
       "model_id": "2a7d26607a4d4578864efc4cdd002e0c",
       "version_major": 2,
       "version_minor": 0
      },
      "text/plain": [
       "  0%|          | 0/1096 [00:00<?, ?it/s]"
      ]
     },
     "metadata": {},
     "output_type": "display_data"
    },
    {
     "name": "stdout",
     "output_type": "stream",
     "text": [
      "Train accuracy:  0.9915120170368117\n",
      "Valid accuracy:  0.9699707922599489\n",
      "----------------------------------\n",
      "Epoch:  4\n"
     ]
    },
    {
     "data": {
      "application/vnd.jupyter.widget-view+json": {
       "model_id": "90e33468171e493ab59fc410e25b9089",
       "version_major": 2,
       "version_minor": 0
      },
      "text/plain": [
       "  0%|          | 0/3287 [00:00<?, ?it/s]"
      ]
     },
     "metadata": {},
     "output_type": "display_data"
    },
    {
     "name": "stdout",
     "output_type": "stream",
     "text": [
      "Train loss:  0.04338488219697881\n"
     ]
    },
    {
     "data": {
      "application/vnd.jupyter.widget-view+json": {
       "model_id": "e35791bf1614439b9977ce22aa0b565d",
       "version_major": 2,
       "version_minor": 0
      },
      "text/plain": [
       "  0%|          | 0/1096 [00:00<?, ?it/s]"
      ]
     },
     "metadata": {},
     "output_type": "display_data"
    },
    {
     "name": "stdout",
     "output_type": "stream",
     "text": [
      "Valid loss:  0.07101211755809489\n"
     ]
    },
    {
     "data": {
      "application/vnd.jupyter.widget-view+json": {
       "model_id": "5485d18913f145ea986d3458abe248c7",
       "version_major": 2,
       "version_minor": 0
      },
      "text/plain": [
       "  0%|          | 0/3287 [00:00<?, ?it/s]"
      ]
     },
     "metadata": {},
     "output_type": "display_data"
    },
    {
     "data": {
      "application/vnd.jupyter.widget-view+json": {
       "model_id": "32e2dc789dc34581992bfef81eb533a2",
       "version_major": 2,
       "version_minor": 0
      },
      "text/plain": [
       "  0%|          | 0/1096 [00:00<?, ?it/s]"
      ]
     },
     "metadata": {},
     "output_type": "display_data"
    },
    {
     "name": "stdout",
     "output_type": "stream",
     "text": [
      "Train accuracy:  0.9958320657134165\n",
      "Valid accuracy:  0.97635998539613\n",
      "----------------------------------\n",
      "Epoch:  5\n"
     ]
    },
    {
     "data": {
      "application/vnd.jupyter.widget-view+json": {
       "model_id": "2c3b74ca30f94bf2bad914ddecc566a6",
       "version_major": 2,
       "version_minor": 0
      },
      "text/plain": [
       "  0%|          | 0/3287 [00:00<?, ?it/s]"
      ]
     },
     "metadata": {},
     "output_type": "display_data"
    },
    {
     "name": "stdout",
     "output_type": "stream",
     "text": [
      "Train loss:  0.03274818795495257\n"
     ]
    },
    {
     "data": {
      "application/vnd.jupyter.widget-view+json": {
       "model_id": "1d8de4dcc684415992fe82307fd3aa9d",
       "version_major": 2,
       "version_minor": 0
      },
      "text/plain": [
       "  0%|          | 0/1096 [00:00<?, ?it/s]"
      ]
     },
     "metadata": {},
     "output_type": "display_data"
    },
    {
     "name": "stdout",
     "output_type": "stream",
     "text": [
      "Valid loss:  0.08636748710356151\n"
     ]
    },
    {
     "data": {
      "application/vnd.jupyter.widget-view+json": {
       "model_id": "412c58739d3b452996ebe0b2dca50f48",
       "version_major": 2,
       "version_minor": 0
      },
      "text/plain": [
       "  0%|          | 0/3287 [00:00<?, ?it/s]"
      ]
     },
     "metadata": {},
     "output_type": "display_data"
    },
    {
     "data": {
      "application/vnd.jupyter.widget-view+json": {
       "model_id": "dec35fc0bb8a49d6b07aa8620353b2b2",
       "version_major": 2,
       "version_minor": 0
      },
      "text/plain": [
       "  0%|          | 0/1096 [00:00<?, ?it/s]"
      ]
     },
     "metadata": {},
     "output_type": "display_data"
    },
    {
     "name": "stdout",
     "output_type": "stream",
     "text": [
      "Train accuracy:  0.9939458472771524\n",
      "Valid accuracy:  0.971978824388463\n",
      "----------------------------------\n"
     ]
    }
   ],
   "source": [
    "num_epochs = 5\n",
    "train_losses = []\n",
    "valid_losses = []\n",
    "train_accs = []\n",
    "valid_accs = []\n",
    "\n",
    "for epoch in tqdm(range(num_epochs)):\n",
    "    print('Epoch: ', epoch + 1)\n",
    "    \n",
    "    train_loss = one_pass(tuned_vgg, dl_train, vgg_optimizer, lossFun)\n",
    "    train_losses.append(train_loss)\n",
    "    print('Train loss: ', train_loss)\n",
    "    \n",
    "    valid_loss = one_pass(tuned_vgg, dl_valid, vgg_optimizer, lossFun, backwards=False)\n",
    "    valid_losses.append(valid_loss)\n",
    "    print('Valid loss: ', valid_loss)\n",
    "    \n",
    "    train_acc = one_pass_acc(tuned_vgg, dl_train, len(ds_train))\n",
    "    train_accs.append(train_acc)\n",
    "    valid_acc = one_pass_acc(tuned_vgg, dl_valid, len(ds_valid))\n",
    "    valid_accs.append(valid_acc)\n",
    "    print('Train accuracy: ', train_acc)\n",
    "    print('Valid accuracy: ', valid_acc)\n",
    "    print('----------------------------------')"
   ]
  },
  {
   "cell_type": "markdown",
   "metadata": {},
   "source": [
    "Save Model:"
   ]
  },
  {
   "cell_type": "code",
   "execution_count": 13,
   "metadata": {
    "execution": {
     "iopub.execute_input": "2022-06-22T20:00:11.493497Z",
     "iopub.status.busy": "2022-06-22T20:00:11.492958Z",
     "iopub.status.idle": "2022-06-22T20:00:14.156612Z",
     "shell.execute_reply": "2022-06-22T20:00:14.155653Z",
     "shell.execute_reply.started": "2022-06-22T20:00:11.493453Z"
    }
   },
   "outputs": [],
   "source": [
    "checkpoint_vgg = {'model_state_dict': tuned_vgg.state_dict(),\n",
    "              'optimizer_state_dict' :vgg_optimizer.state_dict()}\n",
    "torch.save(checkpoint_vgg, '/kaggle/working/vgg_checkpoint.pt')"
   ]
  },
  {
   "cell_type": "markdown",
   "metadata": {},
   "source": [
    "### GoogleNet"
   ]
  },
  {
   "cell_type": "code",
   "execution_count": 14,
   "metadata": {
    "execution": {
     "iopub.execute_input": "2022-06-22T20:00:15.858829Z",
     "iopub.status.busy": "2022-06-22T20:00:15.858242Z",
     "iopub.status.idle": "2022-06-22T20:00:23.031908Z",
     "shell.execute_reply": "2022-06-22T20:00:23.030942Z",
     "shell.execute_reply.started": "2022-06-22T20:00:15.858792Z"
    }
   },
   "outputs": [
    {
     "name": "stderr",
     "output_type": "stream",
     "text": [
      "Downloading: \"https://download.pytorch.org/models/googlenet-1378be20.pth\" to /root/.cache/torch/hub/checkpoints/googlenet-1378be20.pth\n"
     ]
    },
    {
     "data": {
      "application/vnd.jupyter.widget-view+json": {
       "model_id": "287e41aa75854458b9b8d02c440fa716",
       "version_major": 2,
       "version_minor": 0
      },
      "text/plain": [
       "  0%|          | 0.00/49.7M [00:00<?, ?B/s]"
      ]
     },
     "metadata": {},
     "output_type": "display_data"
    }
   ],
   "source": [
    "gnet = models.googlenet(pretrained=True)"
   ]
  },
  {
   "cell_type": "code",
   "execution_count": 15,
   "metadata": {
    "execution": {
     "iopub.execute_input": "2022-06-22T20:00:29.126468Z",
     "iopub.status.busy": "2022-06-22T20:00:29.126108Z",
     "iopub.status.idle": "2022-06-22T20:00:29.132504Z",
     "shell.execute_reply": "2022-06-22T20:00:29.131463Z",
     "shell.execute_reply.started": "2022-06-22T20:00:29.126438Z"
    }
   },
   "outputs": [],
   "source": [
    "gnet_optimizer = optim.Adam(gnet.parameters(), lr = 0.001)"
   ]
  },
  {
   "cell_type": "markdown",
   "metadata": {},
   "source": [
    "Train GoogleNet model for 5 epochs."
   ]
  },
  {
   "cell_type": "code",
   "execution_count": 16,
   "metadata": {
    "execution": {
     "iopub.execute_input": "2022-06-22T20:00:33.678471Z",
     "iopub.status.busy": "2022-06-22T20:00:33.678106Z",
     "iopub.status.idle": "2022-06-22T20:47:02.788698Z",
     "shell.execute_reply": "2022-06-22T20:47:02.787719Z",
     "shell.execute_reply.started": "2022-06-22T20:00:33.678441Z"
    }
   },
   "outputs": [
    {
     "data": {
      "application/vnd.jupyter.widget-view+json": {
       "model_id": "bb29137df0a74ce1b65ae6e239c78dd8",
       "version_major": 2,
       "version_minor": 0
      },
      "text/plain": [
       "  0%|          | 0/5 [00:00<?, ?it/s]"
      ]
     },
     "metadata": {},
     "output_type": "display_data"
    },
    {
     "name": "stdout",
     "output_type": "stream",
     "text": [
      "Epoch:  1\n"
     ]
    },
    {
     "data": {
      "application/vnd.jupyter.widget-view+json": {
       "model_id": "30e0f66183c84ee49e42094cee35a31e",
       "version_major": 2,
       "version_minor": 0
      },
      "text/plain": [
       "  0%|          | 0/3287 [00:00<?, ?it/s]"
      ]
     },
     "metadata": {},
     "output_type": "display_data"
    },
    {
     "name": "stdout",
     "output_type": "stream",
     "text": [
      "Train loss:  0.6124738006218463\n"
     ]
    },
    {
     "data": {
      "application/vnd.jupyter.widget-view+json": {
       "model_id": "c5512a50dc7e4b1fb9b7179535874992",
       "version_major": 2,
       "version_minor": 0
      },
      "text/plain": [
       "  0%|          | 0/1096 [00:00<?, ?it/s]"
      ]
     },
     "metadata": {},
     "output_type": "display_data"
    },
    {
     "name": "stdout",
     "output_type": "stream",
     "text": [
      "Valid loss:  0.30469856320168265\n"
     ]
    },
    {
     "data": {
      "application/vnd.jupyter.widget-view+json": {
       "model_id": "59f358b90cd14360bc522a972d4c137a",
       "version_major": 2,
       "version_minor": 0
      },
      "text/plain": [
       "  0%|          | 0/3287 [00:00<?, ?it/s]"
      ]
     },
     "metadata": {},
     "output_type": "display_data"
    },
    {
     "data": {
      "application/vnd.jupyter.widget-view+json": {
       "model_id": "7ea485bbf61a43e8a439884198147926",
       "version_major": 2,
       "version_minor": 0
      },
      "text/plain": [
       "  0%|          | 0/1096 [00:00<?, ?it/s]"
      ]
     },
     "metadata": {},
     "output_type": "display_data"
    },
    {
     "name": "stdout",
     "output_type": "stream",
     "text": [
      "Train accuracy:  0.9060845756008519\n",
      "Valid accuracy:  0.8946695874406718\n",
      "----------------------------------\n",
      "Epoch:  2\n"
     ]
    },
    {
     "data": {
      "application/vnd.jupyter.widget-view+json": {
       "model_id": "3f8bc79664604a509a538095be0b22af",
       "version_major": 2,
       "version_minor": 0
      },
      "text/plain": [
       "  0%|          | 0/3287 [00:00<?, ?it/s]"
      ]
     },
     "metadata": {},
     "output_type": "display_data"
    },
    {
     "name": "stdout",
     "output_type": "stream",
     "text": [
      "Train loss:  0.3307032869303679\n"
     ]
    },
    {
     "data": {
      "application/vnd.jupyter.widget-view+json": {
       "model_id": "1adaff6bf67b42d7a168b29ff4b3a2bc",
       "version_major": 2,
       "version_minor": 0
      },
      "text/plain": [
       "  0%|          | 0/1096 [00:00<?, ?it/s]"
      ]
     },
     "metadata": {},
     "output_type": "display_data"
    },
    {
     "name": "stdout",
     "output_type": "stream",
     "text": [
      "Valid loss:  0.22158427514978363\n"
     ]
    },
    {
     "data": {
      "application/vnd.jupyter.widget-view+json": {
       "model_id": "6b9fb0a4de6f4c1fa989b36cd8f81ae6",
       "version_major": 2,
       "version_minor": 0
      },
      "text/plain": [
       "  0%|          | 0/3287 [00:00<?, ?it/s]"
      ]
     },
     "metadata": {},
     "output_type": "display_data"
    },
    {
     "data": {
      "application/vnd.jupyter.widget-view+json": {
       "model_id": "906cd70ff84345c99b6b40274c7d82fd",
       "version_major": 2,
       "version_minor": 0
      },
      "text/plain": [
       "  0%|          | 0/1096 [00:00<?, ?it/s]"
      ]
     },
     "metadata": {},
     "output_type": "display_data"
    },
    {
     "name": "stdout",
     "output_type": "stream",
     "text": [
      "Train accuracy:  0.9315181016124126\n",
      "Valid accuracy:  0.9239686016794451\n",
      "----------------------------------\n",
      "Epoch:  3\n"
     ]
    },
    {
     "data": {
      "application/vnd.jupyter.widget-view+json": {
       "model_id": "3b2c29c3ee684aa990802a9c78473081",
       "version_major": 2,
       "version_minor": 0
      },
      "text/plain": [
       "  0%|          | 0/3287 [00:00<?, ?it/s]"
      ]
     },
     "metadata": {},
     "output_type": "display_data"
    },
    {
     "name": "stdout",
     "output_type": "stream",
     "text": [
      "Train loss:  0.24788904819081634\n"
     ]
    },
    {
     "data": {
      "application/vnd.jupyter.widget-view+json": {
       "model_id": "8b08cf6ad297400d8bdae4e92e247946",
       "version_major": 2,
       "version_minor": 0
      },
      "text/plain": [
       "  0%|          | 0/1096 [00:00<?, ?it/s]"
      ]
     },
     "metadata": {},
     "output_type": "display_data"
    },
    {
     "name": "stdout",
     "output_type": "stream",
     "text": [
      "Valid loss:  0.19505448725562496\n"
     ]
    },
    {
     "data": {
      "application/vnd.jupyter.widget-view+json": {
       "model_id": "d4abb9bb52594ac29df732ee869a4041",
       "version_major": 2,
       "version_minor": 0
      },
      "text/plain": [
       "  0%|          | 0/3287 [00:00<?, ?it/s]"
      ]
     },
     "metadata": {},
     "output_type": "display_data"
    },
    {
     "data": {
      "application/vnd.jupyter.widget-view+json": {
       "model_id": "622fd472e95143e999177093f013a8a1",
       "version_major": 2,
       "version_minor": 0
      },
      "text/plain": [
       "  0%|          | 0/1096 [00:00<?, ?it/s]"
      ]
     },
     "metadata": {},
     "output_type": "display_data"
    },
    {
     "name": "stdout",
     "output_type": "stream",
     "text": [
      "Train accuracy:  0.9468208092485549\n",
      "Valid accuracy:  0.9361993428258488\n",
      "----------------------------------\n",
      "Epoch:  4\n"
     ]
    },
    {
     "data": {
      "application/vnd.jupyter.widget-view+json": {
       "model_id": "1968d267a01f484b86dea4cd45a63d8f",
       "version_major": 2,
       "version_minor": 0
      },
      "text/plain": [
       "  0%|          | 0/3287 [00:00<?, ?it/s]"
      ]
     },
     "metadata": {},
     "output_type": "display_data"
    },
    {
     "name": "stdout",
     "output_type": "stream",
     "text": [
      "Train loss:  0.18934702015392144\n"
     ]
    },
    {
     "data": {
      "application/vnd.jupyter.widget-view+json": {
       "model_id": "d1a2998b20904c71bdd495d561601fb3",
       "version_major": 2,
       "version_minor": 0
      },
      "text/plain": [
       "  0%|          | 0/1096 [00:00<?, ?it/s]"
      ]
     },
     "metadata": {},
     "output_type": "display_data"
    },
    {
     "name": "stdout",
     "output_type": "stream",
     "text": [
      "Valid loss:  0.12573590591207\n"
     ]
    },
    {
     "data": {
      "application/vnd.jupyter.widget-view+json": {
       "model_id": "9b243e61dd434f8e86fc2ac5092d534e",
       "version_major": 2,
       "version_minor": 0
      },
      "text/plain": [
       "  0%|          | 0/3287 [00:00<?, ?it/s]"
      ]
     },
     "metadata": {},
     "output_type": "display_data"
    },
    {
     "data": {
      "application/vnd.jupyter.widget-view+json": {
       "model_id": "a37c1c31ccd74f50b2a58e06e1d65edb",
       "version_major": 2,
       "version_minor": 0
      },
      "text/plain": [
       "  0%|          | 0/1096 [00:00<?, ?it/s]"
      ]
     },
     "metadata": {},
     "output_type": "display_data"
    },
    {
     "name": "stdout",
     "output_type": "stream",
     "text": [
      "Train accuracy:  0.9712199574079708\n",
      "Valid accuracy:  0.9593829864914202\n",
      "----------------------------------\n",
      "Epoch:  5\n"
     ]
    },
    {
     "data": {
      "application/vnd.jupyter.widget-view+json": {
       "model_id": "0c9e18bc121e44358caee4dd8f5ed4de",
       "version_major": 2,
       "version_minor": 0
      },
      "text/plain": [
       "  0%|          | 0/3287 [00:00<?, ?it/s]"
      ]
     },
     "metadata": {},
     "output_type": "display_data"
    },
    {
     "name": "stdout",
     "output_type": "stream",
     "text": [
      "Train loss:  0.1484780484313714\n"
     ]
    },
    {
     "data": {
      "application/vnd.jupyter.widget-view+json": {
       "model_id": "b9d2ca4f8a9540e48da1412cd3cc87de",
       "version_major": 2,
       "version_minor": 0
      },
      "text/plain": [
       "  0%|          | 0/1096 [00:00<?, ?it/s]"
      ]
     },
     "metadata": {},
     "output_type": "display_data"
    },
    {
     "name": "stdout",
     "output_type": "stream",
     "text": [
      "Valid loss:  0.09983756261300207\n"
     ]
    },
    {
     "data": {
      "application/vnd.jupyter.widget-view+json": {
       "model_id": "c1ea9c8bc09b403bafab400f1441cf0c",
       "version_major": 2,
       "version_minor": 0
      },
      "text/plain": [
       "  0%|          | 0/3287 [00:00<?, ?it/s]"
      ]
     },
     "metadata": {},
     "output_type": "display_data"
    },
    {
     "data": {
      "application/vnd.jupyter.widget-view+json": {
       "model_id": "4fd8d29feddc48fe8815bfe38c7fe3e0",
       "version_major": 2,
       "version_minor": 0
      },
      "text/plain": [
       "  0%|          | 0/1096 [00:00<?, ?it/s]"
      ]
     },
     "metadata": {},
     "output_type": "display_data"
    },
    {
     "name": "stdout",
     "output_type": "stream",
     "text": [
      "Train accuracy:  0.9814116215393976\n",
      "Valid accuracy:  0.9640379700620665\n",
      "----------------------------------\n"
     ]
    }
   ],
   "source": [
    "num_epochs = 5\n",
    "train_losses_gnet = []\n",
    "valid_losses_gnet = []\n",
    "train_accs_gnet = []\n",
    "valid_accs_gnet = []\n",
    "\n",
    "for epoch in tqdm(range(num_epochs)):\n",
    "    print('Epoch: ', epoch + 1)\n",
    "    \n",
    "    train_loss = one_pass(gnet, dl_train, gnet_optimizer, lossFun)\n",
    "    train_losses_gnet.append(train_loss)\n",
    "    print('Train loss: ', train_loss)\n",
    "    \n",
    "    valid_loss = one_pass(gnet, dl_valid, gnet_optimizer, lossFun, backwards=False)\n",
    "    valid_losses_gnet.append(valid_loss)\n",
    "    print('Valid loss: ', valid_loss)\n",
    "    \n",
    "    train_acc = one_pass_acc(gnet, dl_train, len(ds_train))\n",
    "    train_accs_gnet.append(train_acc)\n",
    "    valid_acc = one_pass_acc(gnet, dl_valid, len(ds_valid))\n",
    "    valid_accs_gnet.append(valid_acc)\n",
    "    print('Train accuracy: ', train_acc)\n",
    "    print('Valid accuracy: ', valid_acc)\n",
    "    print('----------------------------------')"
   ]
  },
  {
   "cell_type": "markdown",
   "metadata": {},
   "source": [
    "Save Model:"
   ]
  },
  {
   "cell_type": "code",
   "execution_count": 17,
   "metadata": {
    "execution": {
     "iopub.execute_input": "2022-06-22T20:49:00.245140Z",
     "iopub.status.busy": "2022-06-22T20:49:00.244614Z",
     "iopub.status.idle": "2022-06-22T20:49:00.553819Z",
     "shell.execute_reply": "2022-06-22T20:49:00.552846Z",
     "shell.execute_reply.started": "2022-06-22T20:49:00.245103Z"
    }
   },
   "outputs": [],
   "source": [
    "checkpoint_gnet = {'model_state_dict': gnet.state_dict(),\n",
    "              'optimizer_state_dict' :gnet_optimizer.state_dict()}\n",
    "torch.save(checkpoint_gnet, '/kaggle/working/gnet_checkpoint.pt')"
   ]
  },
  {
   "cell_type": "markdown",
   "metadata": {},
   "source": [
    "### Partially Frozen ResNet18"
   ]
  },
  {
   "cell_type": "code",
   "execution_count": 18,
   "metadata": {
    "execution": {
     "iopub.execute_input": "2022-06-22T20:49:01.899212Z",
     "iopub.status.busy": "2022-06-22T20:49:01.898561Z",
     "iopub.status.idle": "2022-06-22T20:49:09.015428Z",
     "shell.execute_reply": "2022-06-22T20:49:09.014414Z",
     "shell.execute_reply.started": "2022-06-22T20:49:01.899177Z"
    }
   },
   "outputs": [
    {
     "name": "stderr",
     "output_type": "stream",
     "text": [
      "Downloading: \"https://download.pytorch.org/models/resnet18-f37072fd.pth\" to /root/.cache/torch/hub/checkpoints/resnet18-f37072fd.pth\n"
     ]
    },
    {
     "data": {
      "application/vnd.jupyter.widget-view+json": {
       "model_id": "cb24eac89ed24d56811384f043087a12",
       "version_major": 2,
       "version_minor": 0
      },
      "text/plain": [
       "  0%|          | 0.00/44.7M [00:00<?, ?B/s]"
      ]
     },
     "metadata": {},
     "output_type": "display_data"
    }
   ],
   "source": [
    "resnet = models.resnet18(pretrained=True)"
   ]
  },
  {
   "cell_type": "code",
   "execution_count": 19,
   "metadata": {
    "execution": {
     "iopub.execute_input": "2022-06-22T20:49:16.064848Z",
     "iopub.status.busy": "2022-06-22T20:49:16.064505Z",
     "iopub.status.idle": "2022-06-22T20:49:16.070688Z",
     "shell.execute_reply": "2022-06-22T20:49:16.069238Z",
     "shell.execute_reply.started": "2022-06-22T20:49:16.064821Z"
    }
   },
   "outputs": [],
   "source": [
    "for param in resnet.parameters():\n",
    "    param.requires_grad = False"
   ]
  },
  {
   "cell_type": "code",
   "execution_count": 20,
   "metadata": {
    "execution": {
     "iopub.execute_input": "2022-06-22T20:49:50.317494Z",
     "iopub.status.busy": "2022-06-22T20:49:50.317137Z",
     "iopub.status.idle": "2022-06-22T20:49:50.322746Z",
     "shell.execute_reply": "2022-06-22T20:49:50.321666Z",
     "shell.execute_reply.started": "2022-06-22T20:49:50.317465Z"
    }
   },
   "outputs": [
    {
     "name": "stdout",
     "output_type": "stream",
     "text": [
      "Linear(in_features=512, out_features=1000, bias=True)\n"
     ]
    }
   ],
   "source": [
    "print(resnet.fc)"
   ]
  },
  {
   "cell_type": "code",
   "execution_count": 21,
   "metadata": {
    "execution": {
     "iopub.execute_input": "2022-06-22T20:49:52.775333Z",
     "iopub.status.busy": "2022-06-22T20:49:52.774977Z",
     "iopub.status.idle": "2022-06-22T20:49:52.782207Z",
     "shell.execute_reply": "2022-06-22T20:49:52.780338Z",
     "shell.execute_reply.started": "2022-06-22T20:49:52.775292Z"
    }
   },
   "outputs": [],
   "source": [
    "resnet.fc = nn.Linear(in_features=512, out_features=10) # 10 total classes"
   ]
  },
  {
   "cell_type": "code",
   "execution_count": 22,
   "metadata": {
    "execution": {
     "iopub.execute_input": "2022-06-22T20:51:34.610855Z",
     "iopub.status.busy": "2022-06-22T20:51:34.610429Z",
     "iopub.status.idle": "2022-06-22T20:51:34.621277Z",
     "shell.execute_reply": "2022-06-22T20:51:34.619350Z",
     "shell.execute_reply.started": "2022-06-22T20:51:34.610820Z"
    }
   },
   "outputs": [],
   "source": [
    "params_to_update = []\n",
    "\n",
    "for param in resnet.parameters():\n",
    "    if param.requires_grad == True:\n",
    "        params_to_update.append(param)"
   ]
  },
  {
   "cell_type": "code",
   "execution_count": 23,
   "metadata": {
    "execution": {
     "iopub.execute_input": "2022-06-22T20:51:40.617953Z",
     "iopub.status.busy": "2022-06-22T20:51:40.617608Z",
     "iopub.status.idle": "2022-06-22T20:51:40.623246Z",
     "shell.execute_reply": "2022-06-22T20:51:40.622233Z",
     "shell.execute_reply.started": "2022-06-22T20:51:40.617927Z"
    }
   },
   "outputs": [],
   "source": [
    "res_optimizer = optim.Adam(params_to_update, lr=0.001)"
   ]
  },
  {
   "cell_type": "markdown",
   "metadata": {},
   "source": [
    "Train ResNet model for 5 epochs."
   ]
  },
  {
   "cell_type": "code",
   "execution_count": 24,
   "metadata": {
    "execution": {
     "iopub.execute_input": "2022-06-22T20:51:45.385046Z",
     "iopub.status.busy": "2022-06-22T20:51:45.384706Z",
     "iopub.status.idle": "2022-06-22T21:25:30.968322Z",
     "shell.execute_reply": "2022-06-22T21:25:30.967342Z",
     "shell.execute_reply.started": "2022-06-22T20:51:45.385018Z"
    }
   },
   "outputs": [
    {
     "data": {
      "application/vnd.jupyter.widget-view+json": {
       "model_id": "c55bb5ec6df34d39b77062a3f59d0da1",
       "version_major": 2,
       "version_minor": 0
      },
      "text/plain": [
       "  0%|          | 0/5 [00:00<?, ?it/s]"
      ]
     },
     "metadata": {},
     "output_type": "display_data"
    },
    {
     "name": "stdout",
     "output_type": "stream",
     "text": [
      "Epoch:  1\n"
     ]
    },
    {
     "data": {
      "application/vnd.jupyter.widget-view+json": {
       "model_id": "cbb04dd9b957484197daa3eb4a9a1c83",
       "version_major": 2,
       "version_minor": 0
      },
      "text/plain": [
       "  0%|          | 0/3287 [00:00<?, ?it/s]"
      ]
     },
     "metadata": {},
     "output_type": "display_data"
    },
    {
     "name": "stdout",
     "output_type": "stream",
     "text": [
      "Train loss:  0.8752079772294601\n"
     ]
    },
    {
     "data": {
      "application/vnd.jupyter.widget-view+json": {
       "model_id": "184c48c888724694a9719958bc8f0b79",
       "version_major": 2,
       "version_minor": 0
      },
      "text/plain": [
       "  0%|          | 0/1096 [00:00<?, ?it/s]"
      ]
     },
     "metadata": {},
     "output_type": "display_data"
    },
    {
     "name": "stdout",
     "output_type": "stream",
     "text": [
      "Valid loss:  0.5220566121878334\n"
     ]
    },
    {
     "data": {
      "application/vnd.jupyter.widget-view+json": {
       "model_id": "240c9b5fac684e8ea1fe6fab193bf0a6",
       "version_major": 2,
       "version_minor": 0
      },
      "text/plain": [
       "  0%|          | 0/3287 [00:00<?, ?it/s]"
      ]
     },
     "metadata": {},
     "output_type": "display_data"
    },
    {
     "data": {
      "application/vnd.jupyter.widget-view+json": {
       "model_id": "6d26ae0fa2a04125828e5f2b6c8c078c",
       "version_major": 2,
       "version_minor": 0
      },
      "text/plain": [
       "  0%|          | 0/1096 [00:00<?, ?it/s]"
      ]
     },
     "metadata": {},
     "output_type": "display_data"
    },
    {
     "name": "stdout",
     "output_type": "stream",
     "text": [
      "Train accuracy:  0.8232126559172498\n",
      "Valid accuracy:  0.8298649142022636\n",
      "----------------------------------\n",
      "Epoch:  2\n"
     ]
    },
    {
     "data": {
      "application/vnd.jupyter.widget-view+json": {
       "model_id": "910cfd2455c24edfa0bad3c3b385279f",
       "version_major": 2,
       "version_minor": 0
      },
      "text/plain": [
       "  0%|          | 0/3287 [00:00<?, ?it/s]"
      ]
     },
     "metadata": {},
     "output_type": "display_data"
    },
    {
     "name": "stdout",
     "output_type": "stream",
     "text": [
      "Train loss:  0.6865071055009295\n"
     ]
    },
    {
     "data": {
      "application/vnd.jupyter.widget-view+json": {
       "model_id": "8e07237f9c9d43c8b7373621fc8a5b92",
       "version_major": 2,
       "version_minor": 0
      },
      "text/plain": [
       "  0%|          | 0/1096 [00:00<?, ?it/s]"
      ]
     },
     "metadata": {},
     "output_type": "display_data"
    },
    {
     "name": "stdout",
     "output_type": "stream",
     "text": [
      "Valid loss:  0.4373953592586229\n"
     ]
    },
    {
     "data": {
      "application/vnd.jupyter.widget-view+json": {
       "model_id": "bd7546369c3f452fab5b863cad2119a9",
       "version_major": 2,
       "version_minor": 0
      },
      "text/plain": [
       "  0%|          | 0/3287 [00:00<?, ?it/s]"
      ]
     },
     "metadata": {},
     "output_type": "display_data"
    },
    {
     "data": {
      "application/vnd.jupyter.widget-view+json": {
       "model_id": "b738b47a451a4c60b101fb9bf0f22a81",
       "version_major": 2,
       "version_minor": 0
      },
      "text/plain": [
       "  0%|          | 0/1096 [00:00<?, ?it/s]"
      ]
     },
     "metadata": {},
     "output_type": "display_data"
    },
    {
     "name": "stdout",
     "output_type": "stream",
     "text": [
      "Train accuracy:  0.8545177973836324\n",
      "Valid accuracy:  0.855056589996349\n",
      "----------------------------------\n",
      "Epoch:  3\n"
     ]
    },
    {
     "data": {
      "application/vnd.jupyter.widget-view+json": {
       "model_id": "287429d57a5e49beb8ab401aa90c9fa7",
       "version_major": 2,
       "version_minor": 0
      },
      "text/plain": [
       "  0%|          | 0/3287 [00:00<?, ?it/s]"
      ]
     },
     "metadata": {},
     "output_type": "display_data"
    },
    {
     "name": "stdout",
     "output_type": "stream",
     "text": [
      "Train loss:  0.6568841022748987\n"
     ]
    },
    {
     "data": {
      "application/vnd.jupyter.widget-view+json": {
       "model_id": "6069ce1290b848fbabf7709be625b591",
       "version_major": 2,
       "version_minor": 0
      },
      "text/plain": [
       "  0%|          | 0/1096 [00:00<?, ?it/s]"
      ]
     },
     "metadata": {},
     "output_type": "display_data"
    },
    {
     "name": "stdout",
     "output_type": "stream",
     "text": [
      "Valid loss:  0.44367540308383097\n"
     ]
    },
    {
     "data": {
      "application/vnd.jupyter.widget-view+json": {
       "model_id": "f33e92a27b674eea9957b2f90f9a742e",
       "version_major": 2,
       "version_minor": 0
      },
      "text/plain": [
       "  0%|          | 0/3287 [00:00<?, ?it/s]"
      ]
     },
     "metadata": {},
     "output_type": "display_data"
    },
    {
     "data": {
      "application/vnd.jupyter.widget-view+json": {
       "model_id": "dcf64f722705442e93aa5d4698668a0f",
       "version_major": 2,
       "version_minor": 0
      },
      "text/plain": [
       "  0%|          | 0/1096 [00:00<?, ?it/s]"
      ]
     },
     "metadata": {},
     "output_type": "display_data"
    },
    {
     "name": "stdout",
     "output_type": "stream",
     "text": [
      "Train accuracy:  0.8559172497718284\n",
      "Valid accuracy:  0.8507667031763417\n",
      "----------------------------------\n",
      "Epoch:  4\n"
     ]
    },
    {
     "data": {
      "application/vnd.jupyter.widget-view+json": {
       "model_id": "663dfe605cef4065a8916060382563dc",
       "version_major": 2,
       "version_minor": 0
      },
      "text/plain": [
       "  0%|          | 0/3287 [00:00<?, ?it/s]"
      ]
     },
     "metadata": {},
     "output_type": "display_data"
    },
    {
     "name": "stdout",
     "output_type": "stream",
     "text": [
      "Train loss:  0.6273553681001407\n"
     ]
    },
    {
     "data": {
      "application/vnd.jupyter.widget-view+json": {
       "model_id": "d65684f2d9354f2a91a604bd68fdcd42",
       "version_major": 2,
       "version_minor": 0
      },
      "text/plain": [
       "  0%|          | 0/1096 [00:00<?, ?it/s]"
      ]
     },
     "metadata": {},
     "output_type": "display_data"
    },
    {
     "name": "stdout",
     "output_type": "stream",
     "text": [
      "Valid loss:  0.44083802370408914\n"
     ]
    },
    {
     "data": {
      "application/vnd.jupyter.widget-view+json": {
       "model_id": "3d17d2ec719e494c9c36faa47bd8b426",
       "version_major": 2,
       "version_minor": 0
      },
      "text/plain": [
       "  0%|          | 0/3287 [00:00<?, ?it/s]"
      ]
     },
     "metadata": {},
     "output_type": "display_data"
    },
    {
     "data": {
      "application/vnd.jupyter.widget-view+json": {
       "model_id": "7085bc0079234c5cb957d4b04c9779c0",
       "version_major": 2,
       "version_minor": 0
      },
      "text/plain": [
       "  0%|          | 0/1096 [00:00<?, ?it/s]"
      ]
     },
     "metadata": {},
     "output_type": "display_data"
    },
    {
     "name": "stdout",
     "output_type": "stream",
     "text": [
      "Train accuracy:  0.8563127471858838\n",
      "Valid accuracy:  0.8504016064257028\n",
      "----------------------------------\n",
      "Epoch:  5\n"
     ]
    },
    {
     "data": {
      "application/vnd.jupyter.widget-view+json": {
       "model_id": "48d6e6d5085846b0bb9d652ed4c7e8c5",
       "version_major": 2,
       "version_minor": 0
      },
      "text/plain": [
       "  0%|          | 0/3287 [00:00<?, ?it/s]"
      ]
     },
     "metadata": {},
     "output_type": "display_data"
    },
    {
     "name": "stdout",
     "output_type": "stream",
     "text": [
      "Train loss:  0.6210467058956705\n"
     ]
    },
    {
     "data": {
      "application/vnd.jupyter.widget-view+json": {
       "model_id": "08510534f8f7404b93a4141abdc3ac4a",
       "version_major": 2,
       "version_minor": 0
      },
      "text/plain": [
       "  0%|          | 0/1096 [00:00<?, ?it/s]"
      ]
     },
     "metadata": {},
     "output_type": "display_data"
    },
    {
     "name": "stdout",
     "output_type": "stream",
     "text": [
      "Valid loss:  0.4330454461521258\n"
     ]
    },
    {
     "data": {
      "application/vnd.jupyter.widget-view+json": {
       "model_id": "46dcc9ec9d2140569bb4472ddca6a045",
       "version_major": 2,
       "version_minor": 0
      },
      "text/plain": [
       "  0%|          | 0/3287 [00:00<?, ?it/s]"
      ]
     },
     "metadata": {},
     "output_type": "display_data"
    },
    {
     "data": {
      "application/vnd.jupyter.widget-view+json": {
       "model_id": "33c0296590454b48ac598620591bd040",
       "version_major": 2,
       "version_minor": 0
      },
      "text/plain": [
       "  0%|          | 0/1096 [00:00<?, ?it/s]"
      ]
     },
     "metadata": {},
     "output_type": "display_data"
    },
    {
     "name": "stdout",
     "output_type": "stream",
     "text": [
      "Train accuracy:  0.858442348646182\n",
      "Valid accuracy:  0.8586162833150786\n",
      "----------------------------------\n"
     ]
    }
   ],
   "source": [
    "num_epochs = 5\n",
    "train_losses_res = []\n",
    "valid_losses_res = []\n",
    "train_accs_res = []\n",
    "valid_accs_res = []\n",
    "\n",
    "for epoch in tqdm(range(num_epochs)):\n",
    "    print('Epoch: ', epoch + 1)\n",
    "    \n",
    "    train_loss = one_pass(resnet, dl_train, res_optimizer, lossFun)\n",
    "    train_losses_res.append(train_loss)\n",
    "    print('Train loss: ', train_loss)\n",
    "    \n",
    "    valid_loss = one_pass(resnet, dl_valid, res_optimizer, lossFun, backwards=False)\n",
    "    valid_losses_res.append(valid_loss)\n",
    "    print('Valid loss: ', valid_loss)\n",
    "    \n",
    "    train_acc = one_pass_acc(resnet, dl_train, len(ds_train))\n",
    "    train_accs_res.append(train_acc)\n",
    "    valid_acc = one_pass_acc(resnet, dl_valid, len(ds_valid))\n",
    "    valid_accs_res.append(valid_acc)\n",
    "    print('Train accuracy: ', train_acc)\n",
    "    print('Valid accuracy: ', valid_acc)\n",
    "    print('----------------------------------')"
   ]
  },
  {
   "cell_type": "markdown",
   "metadata": {},
   "source": [
    "Save Model:"
   ]
  },
  {
   "cell_type": "code",
   "execution_count": 25,
   "metadata": {
    "execution": {
     "iopub.execute_input": "2022-06-22T21:25:55.336001Z",
     "iopub.status.busy": "2022-06-22T21:25:55.335658Z",
     "iopub.status.idle": "2022-06-22T21:25:55.420743Z",
     "shell.execute_reply": "2022-06-22T21:25:55.419778Z",
     "shell.execute_reply.started": "2022-06-22T21:25:55.335974Z"
    }
   },
   "outputs": [],
   "source": [
    "checkpoint_resnet = {'model_state_dict': resnet.state_dict(),\n",
    "              'optimizer_state_dict' :res_optimizer.state_dict()}\n",
    "torch.save(checkpoint_resnet, '/kaggle/working/resnet_checkpoint.pt')"
   ]
  },
  {
   "cell_type": "markdown",
   "metadata": {},
   "source": [
    "## Final Model Selection"
   ]
  },
  {
   "cell_type": "code",
   "execution_count": 26,
   "metadata": {
    "execution": {
     "iopub.execute_input": "2022-06-22T21:25:59.670978Z",
     "iopub.status.busy": "2022-06-22T21:25:59.670339Z",
     "iopub.status.idle": "2022-06-22T21:25:59.681704Z",
     "shell.execute_reply": "2022-06-22T21:25:59.680759Z",
     "shell.execute_reply.started": "2022-06-22T21:25:59.670946Z"
    }
   },
   "outputs": [],
   "source": [
    "epochs = [1, 2, 3, 4, 5]\n",
    "vgg_stats = pd.DataFrame({'Epoch':epochs, 'Training Loss':train_losses, 'Training Accuracy':train_accs, 'Validation Loss':valid_losses, 'Validation Accuracy':valid_accs})\n",
    "gnet_stats = pd.DataFrame({'Epoch':epochs, 'Training Loss':train_losses_gnet, 'Training Accuracy':train_accs_gnet, 'Validation Loss':valid_losses_gnet, 'Validation Accuracy':valid_accs_gnet})\n",
    "resnet_stats = pd.DataFrame({'Epoch':epochs, 'Training Loss':train_losses_res, 'Training Accuracy':train_accs_res, 'Validation Loss':valid_losses_res, 'Validation Accuracy':valid_accs_res})"
   ]
  },
  {
   "cell_type": "code",
   "execution_count": 36,
   "metadata": {
    "execution": {
     "iopub.execute_input": "2022-06-22T22:46:12.723347Z",
     "iopub.status.busy": "2022-06-22T22:46:12.722990Z",
     "iopub.status.idle": "2022-06-22T22:46:12.752102Z",
     "shell.execute_reply": "2022-06-22T22:46:12.751235Z",
     "shell.execute_reply.started": "2022-06-22T22:46:12.723315Z"
    }
   },
   "outputs": [],
   "source": [
    "# save stats to CSV\n",
    "vgg_stats.to_csv('/kaggle/working/vgg_stats.csv', encoding='utf-8', index=False)\n",
    "gnet_stats.to_csv('/kaggle/working/gnet_stats.csv', encoding='utf-8', index=False)\n",
    "resnet_stats.to_csv('/kaggle/working/resnet_stats.csv', encoding='utf-8', index=False)"
   ]
  },
  {
   "cell_type": "code",
   "execution_count": 27,
   "metadata": {
    "execution": {
     "iopub.execute_input": "2022-06-22T21:26:00.245387Z",
     "iopub.status.busy": "2022-06-22T21:26:00.245027Z",
     "iopub.status.idle": "2022-06-22T21:26:00.473188Z",
     "shell.execute_reply": "2022-06-22T21:26:00.472210Z",
     "shell.execute_reply.started": "2022-06-22T21:26:00.245358Z"
    }
   },
   "outputs": [
    {
     "data": {
      "image/png": "[encoded data removed]",
      "text/plain": [
       "<Figure size 720x432 with 1 Axes>"
      ]
     },
     "metadata": {
      "needs_background": "light"
     },
     "output_type": "display_data"
    }
   ],
   "source": [
    "fig, ax = plt.subplots(figsize=(10,6))\n",
    "ax.plot(vgg_stats['Validation Loss'].values, lw=2.5, label='VGG16')\n",
    "ax.plot(gnet_stats['Validation Loss'].values, lw=2.5, label='GoogleNet')\n",
    "ax.plot(resnet_stats['Validation Loss'].values, lw=2.5, label='ResNet18')\n",
    "\n",
    "ax.set_title('Validation Loss over 5 Epochs', fontsize=14, weight='bold', pad=20, color='#545454')\n",
    "\n",
    "ax.set_xticklabels(['1', '2', '3', '4', '5'], \n",
    "                   fontsize=11, weight='bold', color = '#545454')\n",
    "\n",
    "plt.xticks(np.arange(0, 5, 1))\n",
    "ax.tick_params(axis='x', which='both', length=0)\n",
    "ax.set_xlabel('Epoch', fontsize=11, weight='bold', color='#545454')\n",
    "ax.set_ylabel('Validation Loss (Cross Entropy)', fontsize=11, weight='bold', color='#545454')\n",
    "\n",
    "ax.spines['top'].set_visible(False)\n",
    "ax.spines['right'].set_visible(False)\n",
    "ax.spines['bottom'].set_linewidth(0.5)\n",
    "ax.spines['left'].set_linewidth(0.5)\n",
    "\n",
    "handles, labels = ax.get_legend_handles_labels()\n",
    "ax.legend(handles[::-1], labels[::-1], bbox_to_anchor=(1, 1), loc='upper left', fontsize=12)\n",
    "\n",
    "plt.show()"
   ]
  },
  {
   "cell_type": "code",
   "execution_count": 28,
   "metadata": {
    "execution": {
     "iopub.execute_input": "2022-06-22T21:26:09.673221Z",
     "iopub.status.busy": "2022-06-22T21:26:09.672678Z",
     "iopub.status.idle": "2022-06-22T21:26:10.000617Z",
     "shell.execute_reply": "2022-06-22T21:26:09.999512Z",
     "shell.execute_reply.started": "2022-06-22T21:26:09.673181Z"
    }
   },
   "outputs": [
    {
     "data": {
      "image/png": "[encoded data removed]",
      "text/plain": [
       "<Figure size 720x432 with 1 Axes>"
      ]
     },
     "metadata": {
      "needs_background": "light"
     },
     "output_type": "display_data"
    }
   ],
   "source": [
    "fig, ax = plt.subplots(figsize=(10,6))\n",
    "ax.plot(vgg_stats['Validation Accuracy'].values, lw=2.5, label='VGG16')\n",
    "ax.plot(gnet_stats['Validation Accuracy'].values, lw=2.5, label='GoogleNet')\n",
    "ax.plot(resnet_stats['Validation Accuracy'].values, lw=2.5, label='ResNet18')\n",
    "\n",
    "ax.set_title('Validation Accuracy over 5 Epochs', fontsize=14, weight='bold', pad=20, color='#545454')\n",
    "ax.set_xticklabels(['1', '2', '3', '4', '5'], \n",
    "                   fontsize=11, weight='bold', color = '#545454')\n",
    "\n",
    "plt.xticks(np.arange(0, 5, 1))\n",
    "ax.tick_params(axis='x', which='both', length=0)\n",
    "ax.set_xlabel('Epoch', fontsize=11, weight='bold', color='#545454')\n",
    "ax.set_ylabel('Validation Accuracy', fontsize=11, weight='bold', color='#545454')\n",
    "\n",
    "ax.spines['top'].set_visible(False)\n",
    "ax.spines['right'].set_visible(False)\n",
    "ax.spines['bottom'].set_linewidth(0.5)\n",
    "ax.spines['left'].set_linewidth(0.5)\n",
    "\n",
    "handles, labels = ax.get_legend_handles_labels()\n",
    "ax.legend(handles[::-1], labels[::-1], bbox_to_anchor=(1, 1), loc='upper left', fontsize=12)\n",
    "\n",
    "plt.show()"
   ]
  },
  {
   "cell_type": "markdown",
   "metadata": {},
   "source": [
    "Based on model performance on the validation set, our final model choice is the fine-tuned VGG16 model."
   ]
  },
  {
   "cell_type": "markdown",
   "metadata": {},
   "source": [
    "### Train / Test Sets"
   ]
  },
  {
   "cell_type": "code",
   "execution_count": 29,
   "metadata": {
    "execution": {
     "iopub.execute_input": "2022-06-22T21:26:27.114738Z",
     "iopub.status.busy": "2022-06-22T21:26:27.114182Z",
     "iopub.status.idle": "2022-06-22T21:26:27.124723Z",
     "shell.execute_reply": "2022-06-22T21:26:27.123495Z",
     "shell.execute_reply.started": "2022-06-22T21:26:27.114704Z"
    }
   },
   "outputs": [],
   "source": [
    "full_train = pd.concat([train, valid])"
   ]
  },
  {
   "cell_type": "code",
   "execution_count": 30,
   "metadata": {
    "execution": {
     "iopub.execute_input": "2022-06-22T21:26:27.760490Z",
     "iopub.status.busy": "2022-06-22T21:26:27.760104Z",
     "iopub.status.idle": "2022-06-22T21:26:27.765940Z",
     "shell.execute_reply": "2022-06-22T21:26:27.764938Z",
     "shell.execute_reply.started": "2022-06-22T21:26:27.760458Z"
    }
   },
   "outputs": [],
   "source": [
    "ds_full_train = TomatoDataset(full_train, augment=True)\n",
    "dl_full_train = DataLoader(ds_full_train, batch_size = 10, shuffle=True)\n",
    "\n",
    "ds_test = TomatoDataset(test)\n",
    "dl_test = DataLoader(ds_test, batch_size = 10, shuffle=False)"
   ]
  },
  {
   "cell_type": "markdown",
   "metadata": {},
   "source": [
    "## VGG Model"
   ]
  },
  {
   "cell_type": "code",
   "execution_count": 31,
   "metadata": {
    "execution": {
     "iopub.execute_input": "2022-06-22T21:26:31.899238Z",
     "iopub.status.busy": "2022-06-22T21:26:31.898895Z",
     "iopub.status.idle": "2022-06-22T21:26:33.436772Z",
     "shell.execute_reply": "2022-06-22T21:26:33.435789Z",
     "shell.execute_reply.started": "2022-06-22T21:26:31.899208Z"
    }
   },
   "outputs": [],
   "source": [
    "vgg = models.vgg16(pretrained=True)"
   ]
  },
  {
   "cell_type": "code",
   "execution_count": 32,
   "metadata": {
    "execution": {
     "iopub.execute_input": "2022-06-22T21:26:33.438968Z",
     "iopub.status.busy": "2022-06-22T21:26:33.438621Z",
     "iopub.status.idle": "2022-06-22T21:26:33.447255Z",
     "shell.execute_reply": "2022-06-22T21:26:33.446200Z",
     "shell.execute_reply.started": "2022-06-22T21:26:33.438935Z"
    }
   },
   "outputs": [],
   "source": [
    "vgg.classifier[6] = nn.Linear(in_features=4096, out_features=10) # 10 total classes"
   ]
  },
  {
   "cell_type": "code",
   "execution_count": 33,
   "metadata": {
    "execution": {
     "iopub.execute_input": "2022-06-22T21:26:34.055038Z",
     "iopub.status.busy": "2022-06-22T21:26:34.054416Z",
     "iopub.status.idle": "2022-06-22T21:26:34.066325Z",
     "shell.execute_reply": "2022-06-22T21:26:34.064977Z",
     "shell.execute_reply.started": "2022-06-22T21:26:34.055002Z"
    }
   },
   "outputs": [],
   "source": [
    "lossFun = nn.CrossEntropyLoss()\n",
    "\n",
    "params_to_update_1 = []\n",
    "params_to_update_2 = []\n",
    "params_to_update_3 = []\n",
    "\n",
    "update_param_names_1 = [\"features\"]\n",
    "update_param_names_2 = [\"classifier.0.weight\",\n",
    "                        \"classifier.0.bias\", \"classifier.3.weight\", \"classifier.3.bias\"]\n",
    "update_param_names_3 = [\"classifier.6.weight\", \"classifier.6.bias\"]\n",
    "\n",
    "for name, param in vgg.named_parameters():\n",
    "    if update_param_names_1[0] in name:\n",
    "        param.requires_grad = True\n",
    "        params_to_update_1.append(param)\n",
    "\n",
    "    elif name in update_param_names_2:\n",
    "        param.requires_grad = True\n",
    "        params_to_update_2.append(param)\n",
    "\n",
    "    elif name in update_param_names_3:\n",
    "        param.requires_grad = True\n",
    "        params_to_update_3.append(param)\n",
    "\n",
    "    else:\n",
    "        param.requires_grad = False\n",
    "\n",
    "optimizer = optim.SGD([\n",
    "    {'params': params_to_update_1, 'lr': 1e-4},\n",
    "    {'params': params_to_update_2, 'lr': 5e-4},\n",
    "    {'params': params_to_update_3, 'lr': 1e-3}\n",
    "], momentum=0.9)"
   ]
  },
  {
   "cell_type": "markdown",
   "metadata": {},
   "source": [
    "Train final model for 5 epochs."
   ]
  },
  {
   "cell_type": "code",
   "execution_count": 34,
   "metadata": {
    "execution": {
     "iopub.execute_input": "2022-06-22T21:28:11.733037Z",
     "iopub.status.busy": "2022-06-22T21:28:11.732472Z",
     "iopub.status.idle": "2022-06-22T22:44:13.692285Z",
     "shell.execute_reply": "2022-06-22T22:44:13.691322Z",
     "shell.execute_reply.started": "2022-06-22T21:28:11.733002Z"
    }
   },
   "outputs": [
    {
     "data": {
      "application/vnd.jupyter.widget-view+json": {
       "model_id": "124b8e574f494b5195fbb8165ef3e145",
       "version_major": 2,
       "version_minor": 0
      },
      "text/plain": [
       "  0%|          | 0/5 [00:00<?, ?it/s]"
      ]
     },
     "metadata": {},
     "output_type": "display_data"
    },
    {
     "name": "stdout",
     "output_type": "stream",
     "text": [
      "Epoch:  1\n"
     ]
    },
    {
     "data": {
      "application/vnd.jupyter.widget-view+json": {
       "model_id": "abf9f3554ea94bda8bb3c07cc67bc460",
       "version_major": 2,
       "version_minor": 0
      },
      "text/plain": [
       "  0%|          | 0/4383 [00:00<?, ?it/s]"
      ]
     },
     "metadata": {},
     "output_type": "display_data"
    },
    {
     "name": "stdout",
     "output_type": "stream",
     "text": [
      "Train loss:  0.3847975426360234\n"
     ]
    },
    {
     "data": {
      "application/vnd.jupyter.widget-view+json": {
       "model_id": "3317446cf57641628f859a0f16c258a7",
       "version_major": 2,
       "version_minor": 0
      },
      "text/plain": [
       "  0%|          | 0/1096 [00:00<?, ?it/s]"
      ]
     },
     "metadata": {},
     "output_type": "display_data"
    },
    {
     "name": "stdout",
     "output_type": "stream",
     "text": [
      "Test loss:  0.1405260158637409\n"
     ]
    },
    {
     "data": {
      "application/vnd.jupyter.widget-view+json": {
       "model_id": "abe237bf45574c4ebf7fd92d2c417902",
       "version_major": 2,
       "version_minor": 0
      },
      "text/plain": [
       "  0%|          | 0/4383 [00:00<?, ?it/s]"
      ]
     },
     "metadata": {},
     "output_type": "display_data"
    },
    {
     "data": {
      "application/vnd.jupyter.widget-view+json": {
       "model_id": "815589188ec04d4d9583a26591569e70",
       "version_major": 2,
       "version_minor": 0
      },
      "text/plain": [
       "  0%|          | 0/1096 [00:00<?, ?it/s]"
      ]
     },
     "metadata": {},
     "output_type": "display_data"
    },
    {
     "name": "stdout",
     "output_type": "stream",
     "text": [
      "Train accuracy:  0.9691050974307489\n",
      "Test accuracy:  0.9523592224148946\n",
      "----------------------------------\n",
      "Epoch:  2\n"
     ]
    },
    {
     "data": {
      "application/vnd.jupyter.widget-view+json": {
       "model_id": "83940470a994430db973520807c5c874",
       "version_major": 2,
       "version_minor": 0
      },
      "text/plain": [
       "  0%|          | 0/4383 [00:00<?, ?it/s]"
      ]
     },
     "metadata": {},
     "output_type": "display_data"
    },
    {
     "name": "stdout",
     "output_type": "stream",
     "text": [
      "Train loss:  0.11954673418693597\n"
     ]
    },
    {
     "data": {
      "application/vnd.jupyter.widget-view+json": {
       "model_id": "626aca88974f4f8da4bdedb7cf53ba62",
       "version_major": 2,
       "version_minor": 0
      },
      "text/plain": [
       "  0%|          | 0/1096 [00:00<?, ?it/s]"
      ]
     },
     "metadata": {},
     "output_type": "display_data"
    },
    {
     "name": "stdout",
     "output_type": "stream",
     "text": [
      "Test loss:  0.09832474405682352\n"
     ]
    },
    {
     "data": {
      "application/vnd.jupyter.widget-view+json": {
       "model_id": "00335bd3357a448390bb94221e8608ed",
       "version_major": 2,
       "version_minor": 0
      },
      "text/plain": [
       "  0%|          | 0/4383 [00:00<?, ?it/s]"
      ]
     },
     "metadata": {},
     "output_type": "display_data"
    },
    {
     "data": {
      "application/vnd.jupyter.widget-view+json": {
       "model_id": "b7a9eaa97def4f34bc72053f024a8b68",
       "version_major": 2,
       "version_minor": 0
      },
      "text/plain": [
       "  0%|          | 0/1096 [00:00<?, ?it/s]"
      ]
     },
     "metadata": {},
     "output_type": "display_data"
    },
    {
     "name": "stdout",
     "output_type": "stream",
     "text": [
      "Train accuracy:  0.986332314151417\n",
      "Test accuracy:  0.9678744181801588\n",
      "----------------------------------\n",
      "Epoch:  3\n"
     ]
    },
    {
     "data": {
      "application/vnd.jupyter.widget-view+json": {
       "model_id": "0f2bb475a2624dec8382d06cf5f81661",
       "version_major": 2,
       "version_minor": 0
      },
      "text/plain": [
       "  0%|          | 0/4383 [00:00<?, ?it/s]"
      ]
     },
     "metadata": {},
     "output_type": "display_data"
    },
    {
     "name": "stdout",
     "output_type": "stream",
     "text": [
      "Train loss:  0.060861491238252456\n"
     ]
    },
    {
     "data": {
      "application/vnd.jupyter.widget-view+json": {
       "model_id": "a0568d30ef524428bd0f3173ef423f8b",
       "version_major": 2,
       "version_minor": 0
      },
      "text/plain": [
       "  0%|          | 0/1096 [00:00<?, ?it/s]"
      ]
     },
     "metadata": {},
     "output_type": "display_data"
    },
    {
     "name": "stdout",
     "output_type": "stream",
     "text": [
      "Test loss:  0.08731723489542412\n"
     ]
    },
    {
     "data": {
      "application/vnd.jupyter.widget-view+json": {
       "model_id": "1d2b2715dc904823978925d2e68b5bfc",
       "version_major": 2,
       "version_minor": 0
      },
      "text/plain": [
       "  0%|          | 0/4383 [00:00<?, ?it/s]"
      ]
     },
     "metadata": {},
     "output_type": "display_data"
    },
    {
     "data": {
      "application/vnd.jupyter.widget-view+json": {
       "model_id": "e355258f4c1e4eefb9a9983869528d51",
       "version_major": 2,
       "version_minor": 0
      },
      "text/plain": [
       "  0%|          | 0/1096 [00:00<?, ?it/s]"
      ]
     },
     "metadata": {},
     "output_type": "display_data"
    },
    {
     "name": "stdout",
     "output_type": "stream",
     "text": [
      "Train accuracy:  0.9908273627527039\n",
      "Test accuracy:  0.9720726476225244\n",
      "----------------------------------\n",
      "Epoch:  4\n"
     ]
    },
    {
     "data": {
      "application/vnd.jupyter.widget-view+json": {
       "model_id": "fed754da4b5d46399f477ec41c83f85c",
       "version_major": 2,
       "version_minor": 0
      },
      "text/plain": [
       "  0%|          | 0/4383 [00:00<?, ?it/s]"
      ]
     },
     "metadata": {},
     "output_type": "display_data"
    },
    {
     "name": "stdout",
     "output_type": "stream",
     "text": [
      "Train loss:  0.03221886535274724\n"
     ]
    },
    {
     "data": {
      "application/vnd.jupyter.widget-view+json": {
       "model_id": "caf528c2b00c4c6b8c0fb8cb139348cf",
       "version_major": 2,
       "version_minor": 0
      },
      "text/plain": [
       "  0%|          | 0/1096 [00:00<?, ?it/s]"
      ]
     },
     "metadata": {},
     "output_type": "display_data"
    },
    {
     "name": "stdout",
     "output_type": "stream",
     "text": [
      "Test loss:  0.05683839435809648\n"
     ]
    },
    {
     "data": {
      "application/vnd.jupyter.widget-view+json": {
       "model_id": "e37028e6a9024af8be9a3cb0c334ef06",
       "version_major": 2,
       "version_minor": 0
      },
      "text/plain": [
       "  0%|          | 0/4383 [00:00<?, ?it/s]"
      ]
     },
     "metadata": {},
     "output_type": "display_data"
    },
    {
     "data": {
      "application/vnd.jupyter.widget-view+json": {
       "model_id": "a8c35dc973124e1e9867bc942f3967ca",
       "version_major": 2,
       "version_minor": 0
      },
      "text/plain": [
       "  0%|          | 0/1096 [00:00<?, ?it/s]"
      ]
     },
     "metadata": {},
     "output_type": "display_data"
    },
    {
     "name": "stdout",
     "output_type": "stream",
     "text": [
      "Train accuracy:  0.9983343220919089\n",
      "Test accuracy:  0.9834808798028658\n",
      "----------------------------------\n",
      "Epoch:  5\n"
     ]
    },
    {
     "data": {
      "application/vnd.jupyter.widget-view+json": {
       "model_id": "a8605d4c7091464b9166e4770490b723",
       "version_major": 2,
       "version_minor": 0
      },
      "text/plain": [
       "  0%|          | 0/4383 [00:00<?, ?it/s]"
      ]
     },
     "metadata": {},
     "output_type": "display_data"
    },
    {
     "name": "stdout",
     "output_type": "stream",
     "text": [
      "Train loss:  0.023930832090216902\n"
     ]
    },
    {
     "data": {
      "application/vnd.jupyter.widget-view+json": {
       "model_id": "3d3ac2137f3b4265a5546c80cae64644",
       "version_major": 2,
       "version_minor": 0
      },
      "text/plain": [
       "  0%|          | 0/1096 [00:00<?, ?it/s]"
      ]
     },
     "metadata": {},
     "output_type": "display_data"
    },
    {
     "name": "stdout",
     "output_type": "stream",
     "text": [
      "Test loss:  0.052534434413967865\n"
     ]
    },
    {
     "data": {
      "application/vnd.jupyter.widget-view+json": {
       "model_id": "ab544a7b749e4a5e9a84e2fac17613d1",
       "version_major": 2,
       "version_minor": 0
      },
      "text/plain": [
       "  0%|          | 0/4383 [00:00<?, ?it/s]"
      ]
     },
     "metadata": {},
     "output_type": "display_data"
    },
    {
     "data": {
      "application/vnd.jupyter.widget-view+json": {
       "model_id": "3e9c9ea77b584bcaaf93ac1369aa998f",
       "version_major": 2,
       "version_minor": 0
      },
      "text/plain": [
       "  0%|          | 0/1096 [00:00<?, ?it/s]"
      ]
     },
     "metadata": {},
     "output_type": "display_data"
    },
    {
     "name": "stdout",
     "output_type": "stream",
     "text": [
      "Train accuracy:  0.998653767170173\n",
      "Test accuracy:  0.9836634115177512\n",
      "----------------------------------\n"
     ]
    }
   ],
   "source": [
    "num_epochs = 5\n",
    "train_losses_final = []\n",
    "test_losses_final = []\n",
    "train_accs_final = []\n",
    "test_accs_final = []\n",
    "\n",
    "for epoch in tqdm(range(num_epochs)):\n",
    "    print('Epoch: ', epoch + 1)\n",
    "    \n",
    "    train_loss = one_pass(vgg, dl_full_train, optimizer, lossFun)\n",
    "    train_losses_final.append(train_loss)\n",
    "    print('Train loss: ', train_loss)\n",
    "    \n",
    "    test_loss = one_pass(vgg, dl_test, optimizer, lossFun, backwards=False)\n",
    "    test_losses_final.append(test_loss)\n",
    "    print('Test loss: ', test_loss)\n",
    "    \n",
    "    train_acc = one_pass_acc(vgg, dl_full_train, len(ds_full_train))\n",
    "    train_accs_final.append(train_acc)\n",
    "    test_acc = one_pass_acc(vgg, dl_test, len(ds_test))\n",
    "    test_accs_final.append(test_acc)\n",
    "    print('Train accuracy: ', train_acc)\n",
    "    print('Test accuracy: ', test_acc)\n",
    "    print('----------------------------------')"
   ]
  },
  {
   "cell_type": "markdown",
   "metadata": {},
   "source": [
    "Save final model:"
   ]
  },
  {
   "cell_type": "code",
   "execution_count": 35,
   "metadata": {
    "execution": {
     "iopub.execute_input": "2022-06-22T22:46:01.255573Z",
     "iopub.status.busy": "2022-06-22T22:46:01.254644Z",
     "iopub.status.idle": "2022-06-22T22:46:03.981680Z",
     "shell.execute_reply": "2022-06-22T22:46:03.980698Z",
     "shell.execute_reply.started": "2022-06-22T22:46:01.255526Z"
    }
   },
   "outputs": [],
   "source": [
    "checkpoint_final = {'model_state_dict': vgg.state_dict(),\n",
    "              'optimizer_state_dict' :optimizer.state_dict()}\n",
    "torch.save(checkpoint_final, '/kaggle/working/final_model_checkpoint.pt')"
   ]
  },
  {
   "cell_type": "code",
   "execution_count": null,
   "metadata": {},
   "outputs": [],
   "source": []
  }
 ],
 "metadata": {
  "kernelspec": {
   "display_name": "Python 3",
   "language": "python",
   "name": "python3"
  },
  "language_info": {
   "codemirror_mode": {
    "name": "ipython",
    "version": 3
   },
   "file_extension": ".py",
   "mimetype": "text/x-python",
   "name": "python",
   "nbconvert_exporter": "python",
   "pygments_lexer": "ipython3",
   "version": "3.8.8"
  }
 },
 "nbformat": 4,
 "nbformat_minor": 4
}
